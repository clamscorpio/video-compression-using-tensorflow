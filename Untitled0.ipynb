{
 "metadata": {
  "name": ""
 },
 "nbformat": 3,
 "nbformat_minor": 0,
 "worksheets": [
  {
   "cells": [
    {
     "cell_type": "code",
     "collapsed": false,
     "input": [
      "import numpy as np\n",
      "import cv2\n",
      "import sys\n",
      "import math\n",
      "import pickle\n",
      "import tensorflow as tf\n",
      "def GetVideoProperties(filePath):\n",
      "    inputVideo = cv2.VideoCapture(filePath);\n",
      "    fileName = filePath\n",
      "    if inputVideo.isOpened() == None:\n",
      "        return False;\n",
      "    frameCount = 0;\n",
      "    while inputVideo.isOpened():\n",
      "        ret, frame = inputVideo.read()\n",
      "        if ret == False:\n",
      "            break;\n",
      "        if frame == None:\n",
      "            return False;\n",
      "        if frame.shape[2] != 3:\n",
      "            return False;\n",
      "        frameSize = (int(inputVideo.get(cv2.CAP_PROP_FRAME_WIDTH)), int(inputVideo.get(cv2.CAP_PROP_FRAME_HEIGHT)))\n",
      "        frameCount += 1;\n",
      "    fps = inputVideo.get(cv2.CAP_PROP_FPS)\n",
      "    return [fps, frameSize, frameCount]\n",
      "\n",
      "def NumToNNValuesSimple(num, maxValue):\n",
      "    res = np.zeros((maxValue, 1), np.float32)\n",
      "    res[num, 0]= 1.0\n",
      "    res = res.flatten()\n",
      "    return res\n",
      "\n",
      "def ImageToNNValues(img):\n",
      "    #print img\n",
      "    result = img.flatten()\n",
      "    result = np.float32(result) / 256.0\n",
      "    return result\n",
      "\n",
      "def NNValuesToImage(values, frameSize):\n",
      "    values *= 256.0\n",
      "    result = values.reshape(3, frameSize[1], len(values) / (3 * frameSize[1]))\n",
      "    result = np.int8(result)\n",
      "    return result\n",
      "\n",
      "def ReconstructFrame(output, nn, sample, frameSize, frameNum, frameCount, NumToNNValuesSimple):\n",
      "    input1 = NumToNNValuesSimple(frameNum, frameCount);\n",
      "    input1 = cv2.resize(input1, (96, 1))\n",
      "    nn.predict(input1, output)\n",
      "    print output\n",
      "    frame = NNValuesToImage(output, frameSize)\n",
      "    return frame\n",
      "\n",
      "def ReconstructMovie(nnPtr, sample, frameSize, frameCount, fps, filePath, NumToNNValuesSimple):\n",
      "    output = np.zeros((1, 2700), np.float64)[0]\n",
      "    print \"Loading neural network\"\n",
      "    if nnPtr == None:\n",
      "        return False\n",
      "    fourcc = cv2.VideoWriter_fourcc('M','J','P','G')\n",
      "    outputVideo = cv2.VideoWriter(filePath, fourcc, fps, frameSize);\n",
      "    if outputVideo.isOpened() == None:\n",
      "        print \"Could not open the output video for write: \", filePath\n",
      "        return False;\n",
      "    for frameNum in range(frameCount):\n",
      "        if  frameNum == 0 or frameNum == frameCount - 1 or frameNum % 100 == 0:\n",
      "            print \"Reconstructing frame \", frameNum + 1, \" of \", frameCount\n",
      "        frame = ReconstructFrame(output, nnPtr, sample, frameSize, frameNum, frameCount, NumToNNValuesSimple)\n",
      "        outputVideo.write(frame);\n",
      "    print \"Saved \", filePath\n",
      "    return True\n",
      "\n",
      "if __name__ == '__main__':\n",
      "\n",
      "    inFilePath = \"/home/lenovo3/3/box1.avi\"\n",
      "\n",
      "    nnFilePath = inFilePath + \".nncv\";\n",
      "    outFilePath = inFilePath + \".nn.mp4\";\n",
      "    maxIters = 1000;\n",
      "    epsilon = 0.00000000001;\n",
      "\n",
      "    [fps, frameSize, frameCount] = GetVideoProperties(inFilePath)\n",
      "    \n",
      "    print inFilePath, \" - fps: \", fps, \" - frameSize: \", frameSize, \" - frameCount: \", frameCount\n",
      "\n",
      "    layerSizes = [];\n",
      "    \n",
      "    inputLayerSize = NumToNNValuesSimple(0, frameCount).shape[0];\n",
      "    outputLayerSize = frameSize[0] * frameSize[1] * 3;\n",
      "    hiddenLayerSize = int(math.sqrt(frameCount)) + 1;\n",
      "    layerSizes.append(inputLayerSize );\n",
      "    layerSizes.append(hiddenLayerSize );\n",
      "    layerSizes.append(hiddenLayerSize );\n",
      "    layerSizes.append(outputLayerSize );\n",
      "    layerSizes = np.array(layerSizes)\n",
      "    \n",
      "    nnPtr = cv2.ml.ANN_MLP_create();\n",
      "    nnPtr.setBackpropMomentumScale(0.0)\n",
      "    nnPtr.setBackpropWeightScale(0.001)\n",
      "    nnPtr.setLayerSizes( layerSizes );\n",
      "    nnPtr.setActivationFunction(cv2.ml.ANN_MLP_GAUSSIAN, 2, 1);\n",
      "    nnPtr.setTrainMethod( cv2.ml.ANN_MLP_RPROP, 0.1, sys.float_info.epsilon)\n",
      "    nnPtr.setTermCriteria((cv2.TERM_CRITERIA_MAX_ITER + cv2.TERM_CRITERIA_EPS, maxIters, epsilon));\n",
      "\n",
      "    samples = np.empty((frameCount, inputLayerSize), np.float32)\n",
      "    responses = np.empty((frameCount, outputLayerSize), np.float32)\n",
      "\n",
      "    inputVideo = cv2.VideoCapture(inFilePath) ;\n",
      "    fileName = inFilePath;\n",
      "\n",
      "    for frameNum in range(frameCount):\n",
      "        if frameNum == 0 or frameNum == frameCount - 1 or frameNum % 100 == 0:\n",
      "            print \"Loading frame \", frameNum + 1, \" of \", frameCount\n",
      "        ret, frame = inputVideo.read()\n",
      "        if ret == False:\n",
      "            break;\n",
      "        if frame == None:\n",
      "            print 1;\n",
      "        imageNNValues = ImageToNNValues(frame);\n",
      "        frameNumNNValues = NumToNNValuesSimple(frameNum, frameCount);\n",
      "        #print len(samples), len(samples[0]), len(responses), len(responses[0])\n",
      "        np.copyto(samples[frameNum], frameNumNNValues);\n",
      "        np.copyto(responses[frameNum], imageNNValues);\n",
      "    \n",
      "    x = tf.placeholder(tf.float32, [frameCount, frameSize[0] * frameSize[1] * 3])\n",
      "    W = tf.Variable(tf.zeros([frameSize[0]*frameSize[1]*3, frameCount]))\n",
      "    b = tf.Variable(tf.zeros([frameCount]))\n",
      "    y = tf.nn.softmax(tf.matmul(x, W) + b)\n",
      "    y_ = tf.placeholder(\"float\", [None,frameCount])\n",
      "    cross_entropy = -tf.reduce_sum(y_*tf.log(y))\n",
      "    cross_entropy = -tf.reduce_sum(y_*tf.log(y))\n",
      "    train_step = tf.train.GradientDescentOptimizer(0.01).minimize(cross_entropy)\n",
      "    init = tf.initialize_all_variables()\n",
      "    sess = tf.Session()\n",
      "    sess.run(init)\n",
      "    for i in range(1000):\n",
      "        batch_xs, batch_ys = samples, responses\n",
      "        sess.run(train_step, feed_dict={x: batch_xs, y_: batch_ys})\n",
      "    correct_prediction = tf.equal(tf.argmax(y,1), tf.argmax(y_,1))\n",
      "    accuracy = tf.reduce_mean(tf.cast(correct_prediction, \"float\"))\n",
      "    print sess.run(accuracy)\n",
      "    #print \"Training neural network\"\n",
      "    #nnPtr.train(samples, cv2.ml.ROW_SAMPLE, responses);\n",
      "    #print len(samples)\n",
      "    #print \"Saving neural network\"\n",
      "    #nnPtr.save(nnFilePath);\n",
      "    #print nnPtr\n",
      "    #ReconstructMovie(nnPtr, samples, frameSize, frameCount, fps, outFilePath, NumToNNValuesSimple);"
     ],
     "language": "python",
     "metadata": {},
     "outputs": [
      {
       "ename": "ImportError",
       "evalue": "Traceback (most recent call last):\n  File \"/usr/local/lib/python2.7/dist-packages/tensorflow/python/__init__.py\", line 49, in <module>\n    from tensorflow.core.framework.graph_pb2 import *\n  File \"/usr/local/lib/python2.7/dist-packages/tensorflow/core/framework/graph_pb2.py\", line 6, in <module>\n    from google.protobuf import descriptor as _descriptor\nImportError: No module named google.protobuf\n\n\nError importing tensorflow.  Unless you are using bazel,\nyou should not try to import tensorflow from its source directory;\nplease exit the tensorflow source tree, and relaunch your python interpreter\nfrom there.",
       "output_type": "pyerr",
       "traceback": [
        "\u001b[0;31m---------------------------------------------------------------------------\u001b[0m\n\u001b[0;31mImportError\u001b[0m                               Traceback (most recent call last)",
        "\u001b[0;32m<ipython-input-4-d1945850907b>\u001b[0m in \u001b[0;36m<module>\u001b[0;34m()\u001b[0m\n\u001b[1;32m      4\u001b[0m \u001b[0;32mimport\u001b[0m \u001b[0mmath\u001b[0m\u001b[0;34m\u001b[0m\u001b[0m\n\u001b[1;32m      5\u001b[0m \u001b[0;32mimport\u001b[0m \u001b[0mpickle\u001b[0m\u001b[0;34m\u001b[0m\u001b[0m\n\u001b[0;32m----> 6\u001b[0;31m \u001b[0;32mimport\u001b[0m \u001b[0mtensorflow\u001b[0m \u001b[0;32mas\u001b[0m \u001b[0mtf\u001b[0m\u001b[0;34m\u001b[0m\u001b[0m\n\u001b[0m\u001b[1;32m      7\u001b[0m \u001b[0;32mdef\u001b[0m \u001b[0mGetVideoProperties\u001b[0m\u001b[0;34m(\u001b[0m\u001b[0mfilePath\u001b[0m\u001b[0;34m)\u001b[0m\u001b[0;34m:\u001b[0m\u001b[0;34m\u001b[0m\u001b[0m\n\u001b[1;32m      8\u001b[0m     \u001b[0minputVideo\u001b[0m \u001b[0;34m=\u001b[0m \u001b[0mcv2\u001b[0m\u001b[0;34m.\u001b[0m\u001b[0mVideoCapture\u001b[0m\u001b[0;34m(\u001b[0m\u001b[0mfilePath\u001b[0m\u001b[0;34m)\u001b[0m\u001b[0;34m;\u001b[0m\u001b[0;34m\u001b[0m\u001b[0m\n",
        "\u001b[0;32m/usr/local/lib/python2.7/dist-packages/tensorflow/__init__.py\u001b[0m in \u001b[0;36m<module>\u001b[0;34m()\u001b[0m\n\u001b[1;32m     21\u001b[0m \u001b[0;32mfrom\u001b[0m \u001b[0m__future__\u001b[0m \u001b[0;32mimport\u001b[0m \u001b[0mprint_function\u001b[0m\u001b[0;34m\u001b[0m\u001b[0m\n\u001b[1;32m     22\u001b[0m \u001b[0;34m\u001b[0m\u001b[0m\n\u001b[0;32m---> 23\u001b[0;31m \u001b[0;32mfrom\u001b[0m \u001b[0mtensorflow\u001b[0m\u001b[0;34m.\u001b[0m\u001b[0mpython\u001b[0m \u001b[0;32mimport\u001b[0m \u001b[0;34m*\u001b[0m\u001b[0;34m\u001b[0m\u001b[0m\n\u001b[0m",
        "\u001b[0;32m/usr/local/lib/python2.7/dist-packages/tensorflow/python/__init__.py\u001b[0m in \u001b[0;36m<module>\u001b[0;34m()\u001b[0m\n\u001b[1;32m     53\u001b[0m \u001b[0mplease\u001b[0m \u001b[0mexit\u001b[0m \u001b[0mthe\u001b[0m \u001b[0mtensorflow\u001b[0m \u001b[0msource\u001b[0m \u001b[0mtree\u001b[0m\u001b[0;34m,\u001b[0m \u001b[0;32mand\u001b[0m \u001b[0mrelaunch\u001b[0m \u001b[0myour\u001b[0m \u001b[0mpython\u001b[0m \u001b[0minterpreter\u001b[0m\u001b[0;34m\u001b[0m\u001b[0m\n\u001b[1;32m     54\u001b[0m from there.\"\"\" % traceback.format_exc()\n\u001b[0;32m---> 55\u001b[0;31m   \u001b[0;32mraise\u001b[0m \u001b[0mImportError\u001b[0m\u001b[0;34m(\u001b[0m\u001b[0mmsg\u001b[0m\u001b[0;34m)\u001b[0m\u001b[0;34m\u001b[0m\u001b[0m\n\u001b[0m\u001b[1;32m     56\u001b[0m \u001b[0;34m\u001b[0m\u001b[0m\n\u001b[1;32m     57\u001b[0m \u001b[0;32mfrom\u001b[0m \u001b[0mtensorflow\u001b[0m\u001b[0;34m.\u001b[0m\u001b[0mcore\u001b[0m\u001b[0;34m.\u001b[0m\u001b[0mframework\u001b[0m\u001b[0;34m.\u001b[0m\u001b[0msummary_pb2\u001b[0m \u001b[0;32mimport\u001b[0m \u001b[0;34m*\u001b[0m\u001b[0;34m\u001b[0m\u001b[0m\n",
        "\u001b[0;31mImportError\u001b[0m: Traceback (most recent call last):\n  File \"/usr/local/lib/python2.7/dist-packages/tensorflow/python/__init__.py\", line 49, in <module>\n    from tensorflow.core.framework.graph_pb2 import *\n  File \"/usr/local/lib/python2.7/dist-packages/tensorflow/core/framework/graph_pb2.py\", line 6, in <module>\n    from google.protobuf import descriptor as _descriptor\nImportError: No module named google.protobuf\n\n\nError importing tensorflow.  Unless you are using bazel,\nyou should not try to import tensorflow from its source directory;\nplease exit the tensorflow source tree, and relaunch your python interpreter\nfrom there."
       ]
      }
     ],
     "prompt_number": 4
    },
    {
     "cell_type": "code",
     "collapsed": false,
     "input": [],
     "language": "python",
     "metadata": {},
     "outputs": []
    },
    {
     "cell_type": "code",
     "collapsed": false,
     "input": [
      "import numpy as np\n",
      "a = np.zeros((5,1));\n",
      "a.shape\n",
      "a = [1,2,3]\n",
      "a[:-1]"
     ],
     "language": "python",
     "metadata": {},
     "outputs": [
      {
       "metadata": {},
       "output_type": "pyout",
       "prompt_number": 34,
       "text": [
        "[1, 2]"
       ]
      }
     ],
     "prompt_number": 34
    },
    {
     "cell_type": "code",
     "collapsed": false,
     "input": [
      "import cv2\n",
      "import numpy as np\n",
      "nn = cv2.ml.ANN_MLP_create();\n",
      "nn.setLayerSizes( np.array([3,4,5,6,7]));\n",
      "nn.setActivationFunction( cv2.ml.ANN_MLP_SIGMOID_SYM );\n",
      "nn.setTrainMethod(cv2.ml.ANN_MLP_RPROP, 0.1, FLT_EPSILON);"
     ],
     "language": "python",
     "metadata": {},
     "outputs": [
      {
       "ename": "NameError",
       "evalue": "name 'FLT_EPSILON' is not defined",
       "output_type": "pyerr",
       "traceback": [
        "\u001b[0;31m---------------------------------------------------------------------------\u001b[0m\n\u001b[0;31mNameError\u001b[0m                                 Traceback (most recent call last)",
        "\u001b[0;32m<ipython-input-18-7e38adbb4f96>\u001b[0m in \u001b[0;36m<module>\u001b[0;34m()\u001b[0m\n\u001b[1;32m      4\u001b[0m \u001b[0mnn\u001b[0m\u001b[0;34m.\u001b[0m\u001b[0msetLayerSizes\u001b[0m\u001b[0;34m(\u001b[0m \u001b[0mnp\u001b[0m\u001b[0;34m.\u001b[0m\u001b[0marray\u001b[0m\u001b[0;34m(\u001b[0m\u001b[0;34m[\u001b[0m\u001b[0;36m3\u001b[0m\u001b[0;34m,\u001b[0m\u001b[0;36m4\u001b[0m\u001b[0;34m,\u001b[0m\u001b[0;36m5\u001b[0m\u001b[0;34m,\u001b[0m\u001b[0;36m6\u001b[0m\u001b[0;34m,\u001b[0m\u001b[0;36m7\u001b[0m\u001b[0;34m]\u001b[0m\u001b[0;34m)\u001b[0m\u001b[0;34m)\u001b[0m\u001b[0;34m;\u001b[0m\u001b[0;34m\u001b[0m\u001b[0m\n\u001b[1;32m      5\u001b[0m \u001b[0mnn\u001b[0m\u001b[0;34m.\u001b[0m\u001b[0msetActivationFunction\u001b[0m\u001b[0;34m(\u001b[0m \u001b[0mcv2\u001b[0m\u001b[0;34m.\u001b[0m\u001b[0mml\u001b[0m\u001b[0;34m.\u001b[0m\u001b[0mANN_MLP_SIGMOID_SYM\u001b[0m \u001b[0;34m)\u001b[0m\u001b[0;34m;\u001b[0m\u001b[0;34m\u001b[0m\u001b[0m\n\u001b[0;32m----> 6\u001b[0;31m \u001b[0mnn\u001b[0m\u001b[0;34m.\u001b[0m\u001b[0msetTrainMethod\u001b[0m\u001b[0;34m(\u001b[0m \u001b[0mcv2\u001b[0m\u001b[0;34m.\u001b[0m\u001b[0mml\u001b[0m\u001b[0;34m.\u001b[0m\u001b[0mANN_MLP_RPROP\u001b[0m\u001b[0;34m,\u001b[0m \u001b[0;36m0.1\u001b[0m\u001b[0;34m,\u001b[0m \u001b[0mFLT_EPSILON\u001b[0m \u001b[0;34m)\u001b[0m\u001b[0;34m;\u001b[0m\u001b[0;34m\u001b[0m\u001b[0m\n\u001b[0m",
        "\u001b[0;31mNameError\u001b[0m: name 'FLT_EPSILON' is not defined"
       ]
      }
     ],
     "prompt_number": 18
    },
    {
     "cell_type": "code",
     "collapsed": false,
     "input": [
      "import math\n",
      "import cv2\n",
      "cv2.TERM_CRITERIA_MAX_ITER"
     ],
     "language": "python",
     "metadata": {},
     "outputs": [
      {
       "metadata": {},
       "output_type": "pyout",
       "prompt_number": 26,
       "text": [
        "1"
       ]
      }
     ],
     "prompt_number": 26
    },
    {
     "cell_type": "code",
     "collapsed": false,
     "input": [
      "import cv2\n",
      "import numpy as np\n",
      "v = cv2.VideoCapture('1.avi')\n",
      "ret, frame = v.read()\n",
      "frame.channels()"
     ],
     "language": "python",
     "metadata": {},
     "outputs": [
      {
       "ename": "AttributeError",
       "evalue": "'NoneType' object has no attribute 'channels'",
       "output_type": "pyerr",
       "traceback": [
        "\u001b[0;31m---------------------------------------------------------------------------\u001b[0m\n\u001b[0;31mAttributeError\u001b[0m                            Traceback (most recent call last)",
        "\u001b[0;32m<ipython-input-3-b8f826eb7a77>\u001b[0m in \u001b[0;36m<module>\u001b[0;34m()\u001b[0m\n\u001b[1;32m      3\u001b[0m \u001b[0mv\u001b[0m \u001b[0;34m=\u001b[0m \u001b[0mcv2\u001b[0m\u001b[0;34m.\u001b[0m\u001b[0mVideoCapture\u001b[0m\u001b[0;34m(\u001b[0m\u001b[0;34m'1.avi'\u001b[0m\u001b[0;34m)\u001b[0m\u001b[0;34m\u001b[0m\u001b[0m\n\u001b[1;32m      4\u001b[0m \u001b[0mret\u001b[0m\u001b[0;34m,\u001b[0m \u001b[0mframe\u001b[0m \u001b[0;34m=\u001b[0m \u001b[0mv\u001b[0m\u001b[0;34m.\u001b[0m\u001b[0mread\u001b[0m\u001b[0;34m(\u001b[0m\u001b[0;34m)\u001b[0m\u001b[0;34m\u001b[0m\u001b[0m\n\u001b[0;32m----> 5\u001b[0;31m \u001b[0mframe\u001b[0m\u001b[0;34m.\u001b[0m\u001b[0mchannels\u001b[0m\u001b[0;34m(\u001b[0m\u001b[0;34m)\u001b[0m\u001b[0;34m\u001b[0m\u001b[0m\n\u001b[0m",
        "\u001b[0;31mAttributeError\u001b[0m: 'NoneType' object has no attribute 'channels'"
       ]
      }
     ],
     "prompt_number": 3
    },
    {
     "cell_type": "code",
     "collapsed": false,
     "input": [
      "import numpy as np\n",
      "import cv2\n",
      "from compiler.ast import flatten\n",
      "a = cv2.imread('2.jpg')\n",
      "c = np.zeros([1,2], cv2.CV_32F)\n",
      "a"
     ],
     "language": "python",
     "metadata": {},
     "outputs": [
      {
       "ename": "TypeError",
       "evalue": "data type not understood",
       "output_type": "pyerr",
       "traceback": [
        "\u001b[0;31m---------------------------------------------------------------------------\u001b[0m\n\u001b[0;31mTypeError\u001b[0m                                 Traceback (most recent call last)",
        "\u001b[0;32m<ipython-input-2-fb4a7a6a6e4a>\u001b[0m in \u001b[0;36m<module>\u001b[0;34m()\u001b[0m\n\u001b[1;32m      3\u001b[0m \u001b[0;32mfrom\u001b[0m \u001b[0mcompiler\u001b[0m\u001b[0;34m.\u001b[0m\u001b[0mast\u001b[0m \u001b[0;32mimport\u001b[0m \u001b[0mflatten\u001b[0m\u001b[0;34m\u001b[0m\u001b[0m\n\u001b[1;32m      4\u001b[0m \u001b[0ma\u001b[0m \u001b[0;34m=\u001b[0m \u001b[0mcv2\u001b[0m\u001b[0;34m.\u001b[0m\u001b[0mimread\u001b[0m\u001b[0;34m(\u001b[0m\u001b[0;34m'2.jpg'\u001b[0m\u001b[0;34m)\u001b[0m\u001b[0;34m\u001b[0m\u001b[0m\n\u001b[0;32m----> 5\u001b[0;31m \u001b[0mc\u001b[0m \u001b[0;34m=\u001b[0m \u001b[0mnp\u001b[0m\u001b[0;34m.\u001b[0m\u001b[0mzeros\u001b[0m\u001b[0;34m(\u001b[0m\u001b[0;34m[\u001b[0m\u001b[0;36m1\u001b[0m\u001b[0;34m,\u001b[0m\u001b[0;36m2\u001b[0m\u001b[0;34m]\u001b[0m\u001b[0;34m,\u001b[0m \u001b[0mcv2\u001b[0m\u001b[0;34m.\u001b[0m\u001b[0mCV_32F\u001b[0m\u001b[0;34m)\u001b[0m\u001b[0;34m\u001b[0m\u001b[0m\n\u001b[0m\u001b[1;32m      6\u001b[0m \u001b[0ma\u001b[0m\u001b[0;34m\u001b[0m\u001b[0m\n",
        "\u001b[0;31mTypeError\u001b[0m: data type not understood"
       ]
      }
     ],
     "prompt_number": 2
    },
    {
     "cell_type": "code",
     "collapsed": false,
     "input": [
      "import numpy as np\n",
      "a = np.array([1,2,3])\n",
      "b = np.array([4,5,6])\n",
      "c = np.float32(a)*2\n",
      "c"
     ],
     "language": "python",
     "metadata": {},
     "outputs": [
      {
       "metadata": {},
       "output_type": "pyout",
       "prompt_number": 149,
       "text": [
        "array([ 2.,  4.,  6.], dtype=float32)"
       ]
      }
     ],
     "prompt_number": 149
    },
    {
     "cell_type": "code",
     "collapsed": false,
     "input": [
      "result"
     ],
     "language": "python",
     "metadata": {},
     "outputs": [
      {
       "ename": "NameError",
       "evalue": "name 'result' is not defined",
       "output_type": "pyerr",
       "traceback": [
        "\u001b[0;31m---------------------------------------------------------------------------\u001b[0m\n\u001b[0;31mNameError\u001b[0m                                 Traceback (most recent call last)",
        "\u001b[0;32m<ipython-input-154-a5b1e83cd027>\u001b[0m in \u001b[0;36m<module>\u001b[0;34m()\u001b[0m\n\u001b[0;32m----> 1\u001b[0;31m \u001b[0mresult\u001b[0m\u001b[0;34m\u001b[0m\u001b[0m\n\u001b[0m",
        "\u001b[0;31mNameError\u001b[0m: name 'result' is not defined"
       ]
      }
     ],
     "prompt_number": 154
    },
    {
     "cell_type": "code",
     "collapsed": false,
     "input": [
      "import numpy as np\n",
      "a = np.array([[1,2,3],[4,5,6]])\n",
      "r = np.zeros((1,5))\n",
      "b = np.empty_like(a)\n",
      "b"
     ],
     "language": "python",
     "metadata": {},
     "outputs": [
      {
       "metadata": {},
       "output_type": "pyout",
       "prompt_number": 210,
       "text": [
        "array([[140696130725864,        55978176, 140696018399184],\n",
        "       [140696018448464, 140696018448528, 140696018448592]])"
       ]
      }
     ],
     "prompt_number": 210
    },
    {
     "cell_type": "code",
     "collapsed": false,
     "input": [
      "import cv2\n",
      "import numpy as np\n",
      "a = cv2.ml.ANN_MLP_create()\n",
      "load('/home/lenovo3/3/box1.avi.nncv')"
     ],
     "language": "python",
     "metadata": {},
     "outputs": [
      {
       "ename": "NameError",
       "evalue": "name 'load' is not defined",
       "output_type": "pyerr",
       "traceback": [
        "\u001b[0;31m---------------------------------------------------------------------------\u001b[0m\n\u001b[0;31mNameError\u001b[0m                                 Traceback (most recent call last)",
        "\u001b[0;32m<ipython-input-290-212e738a7f76>\u001b[0m in \u001b[0;36m<module>\u001b[0;34m()\u001b[0m\n\u001b[1;32m      2\u001b[0m \u001b[0;32mimport\u001b[0m \u001b[0mnumpy\u001b[0m \u001b[0;32mas\u001b[0m \u001b[0mnp\u001b[0m\u001b[0;34m\u001b[0m\u001b[0m\n\u001b[1;32m      3\u001b[0m \u001b[0ma\u001b[0m \u001b[0;34m=\u001b[0m \u001b[0mcv2\u001b[0m\u001b[0;34m.\u001b[0m\u001b[0mml\u001b[0m\u001b[0;34m.\u001b[0m\u001b[0mANN_MLP_create\u001b[0m\u001b[0;34m(\u001b[0m\u001b[0;34m)\u001b[0m\u001b[0;34m\u001b[0m\u001b[0m\n\u001b[0;32m----> 4\u001b[0;31m \u001b[0mload\u001b[0m\u001b[0;34m(\u001b[0m\u001b[0;34m'/home/lenovo3/3/box1.avi.nncv'\u001b[0m\u001b[0;34m)\u001b[0m\u001b[0;34m\u001b[0m\u001b[0m\n\u001b[0m",
        "\u001b[0;31mNameError\u001b[0m: name 'load' is not defined"
       ]
      }
     ],
     "prompt_number": 290
    },
    {
     "cell_type": "code",
     "collapsed": false,
     "input": [
      "import numpy as np\n",
      "a = np.array([1,2,3,4,5,6,7,8,9])\n",
      "b = a.reshape(3,1,3)\n",
      "b"
     ],
     "language": "python",
     "metadata": {},
     "outputs": [
      {
       "metadata": {},
       "output_type": "pyout",
       "prompt_number": 246,
       "text": [
        "array([[[1, 2, 3]],\n",
        "\n",
        "       [[4, 5, 6]],\n",
        "\n",
        "       [[7, 8, 9]]])"
       ]
      }
     ],
     "prompt_number": 246
    },
    {
     "cell_type": "code",
     "collapsed": false,
     "input": [
      "import cPickle\n",
      "import gzip\n",
      "a = open('/home/lenovo3/3/box1.avi.nncv', 'rb')\n",
      "a.readline()"
     ],
     "language": "python",
     "metadata": {},
     "outputs": [
      {
       "metadata": {},
       "output_type": "pyout",
       "prompt_number": 304,
       "text": [
        "'%YAML:1.0\\n'"
       ]
      }
     ],
     "prompt_number": 304
    },
    {
     "cell_type": "code",
     "collapsed": false,
     "input": [
      "import cv2\n",
      "help(cv2.ml.ANN_MLP_create().load)"
     ],
     "language": "python",
     "metadata": {},
     "outputs": [
      {
       "ename": "AttributeError",
       "evalue": "'cv2.ml_ANN_MLP' object has no attribute 'load'",
       "output_type": "pyerr",
       "traceback": [
        "\u001b[0;31m---------------------------------------------------------------------------\u001b[0m\n\u001b[0;31mAttributeError\u001b[0m                            Traceback (most recent call last)",
        "\u001b[0;32m<ipython-input-385-8d0606fc6951>\u001b[0m in \u001b[0;36m<module>\u001b[0;34m()\u001b[0m\n\u001b[1;32m      1\u001b[0m \u001b[0;32mimport\u001b[0m \u001b[0mcv2\u001b[0m\u001b[0;34m\u001b[0m\u001b[0m\n\u001b[0;32m----> 2\u001b[0;31m \u001b[0mhelp\u001b[0m\u001b[0;34m(\u001b[0m\u001b[0mcv2\u001b[0m\u001b[0;34m.\u001b[0m\u001b[0mml\u001b[0m\u001b[0;34m.\u001b[0m\u001b[0mANN_MLP_create\u001b[0m\u001b[0;34m(\u001b[0m\u001b[0;34m)\u001b[0m\u001b[0;34m.\u001b[0m\u001b[0mload\u001b[0m\u001b[0;34m)\u001b[0m\u001b[0;34m\u001b[0m\u001b[0m\n\u001b[0m",
        "\u001b[0;31mAttributeError\u001b[0m: 'cv2.ml_ANN_MLP' object has no attribute 'load'"
       ]
      }
     ],
     "prompt_number": 385
    },
    {
     "cell_type": "code",
     "collapsed": false,
     "input": [
      "import cv2\n",
      "help(cv2.ml.ANN_MLP_create().load)\n"
     ],
     "language": "python",
     "metadata": {},
     "outputs": [
      {
       "ename": "AttributeError",
       "evalue": "'cv2.ml_ANN_MLP' object has no attribute 'load'",
       "output_type": "pyerr",
       "traceback": [
        "\u001b[0;31m---------------------------------------------------------------------------\u001b[0m\n\u001b[0;31mAttributeError\u001b[0m                            Traceback (most recent call last)",
        "\u001b[0;32m<ipython-input-382-8d0606fc6951>\u001b[0m in \u001b[0;36m<module>\u001b[0;34m()\u001b[0m\n\u001b[1;32m      1\u001b[0m \u001b[0;32mimport\u001b[0m \u001b[0mcv2\u001b[0m\u001b[0;34m\u001b[0m\u001b[0m\n\u001b[0;32m----> 2\u001b[0;31m \u001b[0mhelp\u001b[0m\u001b[0;34m(\u001b[0m\u001b[0mcv2\u001b[0m\u001b[0;34m.\u001b[0m\u001b[0mml\u001b[0m\u001b[0;34m.\u001b[0m\u001b[0mANN_MLP_create\u001b[0m\u001b[0;34m(\u001b[0m\u001b[0;34m)\u001b[0m\u001b[0;34m.\u001b[0m\u001b[0mload\u001b[0m\u001b[0;34m)\u001b[0m\u001b[0;34m\u001b[0m\u001b[0m\n\u001b[0m",
        "\u001b[0;31mAttributeError\u001b[0m: 'cv2.ml_ANN_MLP' object has no attribute 'load'"
       ]
      }
     ],
     "prompt_number": 382
    },
    {
     "cell_type": "code",
     "collapsed": false,
     "input": [
      "W_conv1 = weight_variable([5, 5, frameCount, frameSize[0] * frameSize[1] * 3])\n",
      "b_conv1 = bias_variable([32])\n",
      "x_image = tf.reshape(x, [-1, frameSize[0], frameSize[1], 3])\n",
      "h_conv1 = tf.nn.relu(conv2d(x_image, W_conv1) + b_conv1)\n",
      "h_pool1 = max_pool_2x2(h_conv1)\n",
      "\n",
      "W_conv2 = weight_variable([5, 5, frameSize[0] * frameSize[1] * 3, frameSize[0] * frameSize[1] * 6])\n",
      "b_conv2 = bias_variable([frameSize[0] * frameSize[1] * 3])\n",
      "\n",
      "h_conv2 = tf.nn.relu(conv2d(h_pool1, W_conv2) + b_conv2)\n",
      "h_pool2 = max_pool_2x2(h_conv2)\n",
      "\n",
      "W_fc1 = weight_variable([frameSize[0] * frameSize[1] / 16 * frameSize[0] * frameSize[1] * 2, 1024])\n",
      "b_fc1 = bias_variable([1024])\n",
      "\n",
      "h_pool2_flat = tf.reshape(h_pool2, [-1, frameSize[0] * frameSize[1] / 16 * frameSize[0] * frameSize[1] * 2])\n",
      "h_fc1 = tf.nn.relu(tf.matmul(h_pool2_flat, W_fc1) + b_fc1)\n",
      "\n",
      "keep_prob = tf.placeholder(\"float\")\n",
      "h_fc1_drop = tf.nn.dropout(h_fc1, keep_prob)\n",
      "\n",
      "W_fc2 = weight_variable([1024, frameSize[0] * frameSize[1] / 16 * frameSize[0] * frameSize[1] * 2])\n",
      "b_fc2 = bias_variable([frameSize[0] * frameSize[1] / 16 * frameSize[0] * frameSize[1] * 2])\n",
      "\n",
      "y_conv=tf.nn.softmax(tf.matmul(h_fc1_drop, W_fc2) + b_fc2)\n",
      "\n",
      "cross_entropy = -tf.reduce_sum(y_*tf.log(y_conv))\n",
      "train_step = tf.train.AdamOptimizer(1e-4).minimize(cross_entropy)\n",
      "correct_prediction = tf.equal(tf.argmax(y_conv,1), tf.argmax(y_,1))\n",
      "accuracy = tf.reduce_mean(tf.cast(correct_prediction, \"float\"))\n",
      "sess.run(tf.initialize_all_variables())\n",
      "for i in range(2000):\n",
      "    batch = [samples, responses]\n",
      "    if i%100 == 0:\n",
      "    train_accuracy = accuracy.eval(feed_dict={\n",
      "        x:batch[0], y_: batch[1], keep_prob: 1.0})\n",
      "    print \"step %d, training accuracy %g\"%(i, train_accuracy)\n",
      "    train_step.run(feed_dict={x: batch[0], y_: batch[1], keep_prob: 0.5})"
     ],
     "language": "python",
     "metadata": {},
     "outputs": [
      {
       "ename": "AttributeError",
       "evalue": "'cv2.ml_SVM' object has no attribute 'load'",
       "output_type": "pyerr",
       "traceback": [
        "\u001b[0;31m---------------------------------------------------------------------------\u001b[0m\n\u001b[0;31mAttributeError\u001b[0m                            Traceback (most recent call last)",
        "\u001b[0;32m<ipython-input-2-270cd9c57041>\u001b[0m in \u001b[0;36m<module>\u001b[0;34m()\u001b[0m\n\u001b[1;32m      5\u001b[0m \u001b[0mlabels\u001b[0m \u001b[0;34m=\u001b[0m \u001b[0mnp\u001b[0m\u001b[0;34m.\u001b[0m\u001b[0marray\u001b[0m\u001b[0;34m(\u001b[0m\u001b[0;34m[\u001b[0m\u001b[0;36m0\u001b[0m\u001b[0;34m,\u001b[0m \u001b[0;36m1\u001b[0m\u001b[0;34m,\u001b[0m \u001b[0;36m0\u001b[0m\u001b[0;34m,\u001b[0m \u001b[0;36m1\u001b[0m\u001b[0;34m]\u001b[0m\u001b[0;34m,\u001b[0m \u001b[0mdtype\u001b[0m\u001b[0;34m=\u001b[0m\u001b[0mnp\u001b[0m\u001b[0;34m.\u001b[0m\u001b[0mfloat32\u001b[0m\u001b[0;34m)\u001b[0m\u001b[0;34m\u001b[0m\u001b[0m\n\u001b[1;32m      6\u001b[0m \u001b[0mm\u001b[0m \u001b[0;34m=\u001b[0m \u001b[0mcv2\u001b[0m\u001b[0;34m.\u001b[0m\u001b[0mml\u001b[0m\u001b[0;34m.\u001b[0m\u001b[0mSVM_create\u001b[0m\u001b[0;34m(\u001b[0m\u001b[0;34m)\u001b[0m\u001b[0;34m\u001b[0m\u001b[0m\n\u001b[0;32m----> 7\u001b[0;31m \u001b[0mm\u001b[0m\u001b[0;34m.\u001b[0m\u001b[0mload\u001b[0m\u001b[0;34m(\u001b[0m\u001b[0;34m)\u001b[0m\u001b[0;34m\u001b[0m\u001b[0m\n\u001b[0m",
        "\u001b[0;31mAttributeError\u001b[0m: 'cv2.ml_SVM' object has no attribute 'load'"
       ]
      }
     ],
     "prompt_number": 2
    },
    {
     "cell_type": "code",
     "collapsed": false,
     "input": [],
     "language": "python",
     "metadata": {},
     "outputs": []
    }
   ],
   "metadata": {}
  }
 ]
}