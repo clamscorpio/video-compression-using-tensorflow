{
 "metadata": {
  "name": ""
 },
 "nbformat": 3,
 "nbformat_minor": 0,
 "worksheets": [
  {
   "cells": [
    {
     "cell_type": "code",
     "collapsed": false,
     "input": [
      "import cv2\n",
      "import numpy as np\n",
      "video = []\n",
      "fourcc = cv2.VideoWriter_fourcc('D','I','V','X')\n",
      "out = cv2.VideoWriter('kungfu12.avi',fourcc, 20, (48,36))\n",
      "lines = open('/home/lenovo3/4/lowest_error_comp_rnn_test_video.txt').readlines()\n",
      "for line in lines:\n",
      "    a = []\n",
      "    #print line[0]\n",
      "    line = line.strip().split(',')\n",
      "    #print line\n",
      "    #print line[0]\n",
      "    #if len(line) != 4800:\n",
      "    #    continue\n",
      "    for i in line:\n",
      "        a.append(int(float(i) * 255.0))\n",
      "    #print len(a)\n",
      "    #print len(a)\n",
      "    #print np.array(a)\n",
      "    #print len(a)\n",
      "    images = np.array(a).reshape(36, 48, 3)\n",
      "    frame = images.astype('u1')\n",
      "    out.write(frame)\n",
      "   # print len(images)\n",
      "    #images.dtype = 'uint8'\n",
      "    #print len(images[0])\n",
      "    video.append(images)\n",
      "    if cv2.waitKey(1) & 0xFF == ord('q'):\n",
      "        break\n",
      "video = np.array(video)\n",
      "j = 0\n",
      "for frames in video:\n",
      "    cv2.imwrite('/home/lenovo3/4/%d.jpg'%j, frames)\n",
      "    j += 1\n",
      "out.release()\n",
      "cv2.destroyAllWindows()"
     ],
     "language": "python",
     "metadata": {},
     "outputs": [],
     "prompt_number": 1
    },
    {
     "cell_type": "code",
     "collapsed": false,
     "input": [
      "import numpy as np\n",
      "import cv2\n",
      "import csv\n",
      "cap = cv2.VideoCapture('/home/lenovo3/original.avi')\n",
      "\n",
      "# Define the codec and create VideoWriter object\n",
      "#fourcc = cv2.VideoWriter_fourcc(*'XVID')\n",
      "#out = cv2.VideoWriter('output.avi',fourcc, 20.0, (640,480))\n",
      "j = 0\n",
      "with open('/home/lenovo3/original.csv', 'wb') as files:\n",
      "    while cap.isOpened():\n",
      "        ret, frame = cap.read()\n",
      "        if ret==True:\n",
      "            gray = cv2.cvtColor(frame, cv2.COLOR_BGR2GRAY)\n",
      "                #cv2.imwrite('/home/sunyanbo/test/%d.jpg'%j, gray)\n",
      "            l = cv2.split(gray)[0]\n",
      "            l = l.reshape(1,4800)\n",
      "            x = [str(m / 255.0) for m in l[0]]\n",
      "            spamwrite = csv.writer(files)\n",
      "            spamwrite.writerow(tuple(x))\n",
      "            j += 1\n",
      "            cv2.imshow('frame',frame)\n",
      "            if cv2.waitKey(1) & 0xFF == ord('q'):\n",
      "                break\n",
      "        else:\n",
      "            break\n",
      "# Release everything if job is finished\n",
      "cap.release()\n",
      "files.close()\n",
      "#out.release()\n",
      "cv2.destroyAllWindows()"
     ],
     "language": "python",
     "metadata": {},
     "outputs": [],
     "prompt_number": 1
    },
    {
     "cell_type": "code",
     "collapsed": false,
     "input": [
      "import cv2\n",
      "import numpy as np\n",
      "import csv\n",
      "k = 0\n",
      "b = []\n",
      "#files = open('/home/sunyanbo/open.txt', 'wb')\n",
      "with open('/home/sunyanbo/open.txt', 'wb') as files:\n",
      "    spamwrite = csv.writer(files)\n",
      "    while k < 201:\n",
      "        #l = []\n",
      "        frame = cv2.imread('/media/sunyanbo/41A2-A27B/original/%d.jpg'%k)\n",
      "        #print frame\n",
      "        #for i in frame:\n",
      "        #    for j in i:\n",
      "        #        l.append(j[0])\n",
      "        l = cv2.split(frame)[0]\n",
      "    \n",
      "        #print frame\n",
      "        l = l.reshape(1,4800)\n",
      "        #print len(l[0])\n",
      "        #print frame\n",
      "        #frame = frame.tolist()\n",
      "        #for x in frame:\n",
      "        #    t.append(x)\n",
      "        #print l\n",
      "        x = [str(m / 255.0) for m in l[0]]\n",
      "        s = ','.join([str(m / 255.0) for m in l[0]])\n",
      "        #print len(s.strip().split(','))\n",
      "        spamwrite.writerow(x)\n",
      "        #files.write(s + \"\\n\")\n",
      "        k += 1"
     ],
     "language": "python",
     "metadata": {},
     "outputs": [],
     "prompt_number": 16
    },
    {
     "cell_type": "code",
     "collapsed": false,
     "input": [
      "frame1 = cv2.imread('/home/sunyanbo/test/0.jpg')\n",
      "frame2 = cv2.imread('/home/sunyanbo/test/199.jpg')\n",
      "    #print frame\n",
      "    #for i in frame:\n",
      "    #    for j in i:\n",
      "    #        l.append(j[0])\n",
      "l1 = cv2.split(frame1)[0]\n",
      "l2 = cv2.split(frame2)[0]"
     ],
     "language": "python",
     "metadata": {},
     "outputs": [],
     "prompt_number": 73
    },
    {
     "cell_type": "code",
     "collapsed": false,
     "input": [
      "b[199]"
     ],
     "language": "python",
     "metadata": {},
     "outputs": [
      {
       "metadata": {},
       "output_type": "pyout",
       "prompt_number": 80,
       "text": [
        "array([[103,  85,  85, ...,  80, 103,  98],\n",
        "       [110,  88,  89, ...,  95,  84,  94],\n",
        "       [104,  99,  88, ...,  90,  92,  93],\n",
        "       ..., \n",
        "       [139, 162, 191, ..., 182, 180, 127],\n",
        "       [136, 176, 167, ..., 181, 170,  93],\n",
        "       [150, 180, 162, ..., 174, 150,  99]], dtype=uint8)"
       ]
      }
     ],
     "prompt_number": 80
    },
    {
     "cell_type": "code",
     "collapsed": false,
     "input": [
      "l2"
     ],
     "language": "python",
     "metadata": {},
     "outputs": [
      {
       "metadata": {},
       "output_type": "pyout",
       "prompt_number": 75,
       "text": [
        "array([[103,  85,  85, ...,  80, 103,  98],\n",
        "       [110,  88,  89, ...,  95,  84,  94],\n",
        "       [104,  99,  88, ...,  90,  92,  93],\n",
        "       ..., \n",
        "       [139, 162, 191, ..., 182, 180, 127],\n",
        "       [136, 176, 167, ..., 181, 170,  93],\n",
        "       [150, 180, 162, ..., 174, 150,  99]], dtype=uint8)"
       ]
      }
     ],
     "prompt_number": 75
    },
    {
     "cell_type": "code",
     "collapsed": false,
     "input": [],
     "language": "python",
     "metadata": {},
     "outputs": [
      {
       "metadata": {},
       "output_type": "pyout",
       "prompt_number": 20,
       "text": [
        "480"
       ]
      }
     ],
     "prompt_number": 20
    },
    {
     "cell_type": "code",
     "collapsed": false,
     "input": [
      "import cv2\n",
      "a = cv2.imread(\"2.jpg\")\n",
      "print a.shape"
     ],
     "language": "python",
     "metadata": {},
     "outputs": [
      {
       "output_type": "stream",
       "stream": "stdout",
       "text": [
        "(10, 10, 3)\n"
       ]
      }
     ],
     "prompt_number": 4
    },
    {
     "cell_type": "code",
     "collapsed": false,
     "input": [],
     "language": "python",
     "metadata": {},
     "outputs": [],
     "prompt_number": 33
    },
    {
     "cell_type": "code",
     "collapsed": false,
     "input": [],
     "language": "python",
     "metadata": {},
     "outputs": [
      {
       "metadata": {},
       "output_type": "pyout",
       "prompt_number": 43,
       "text": [
        "60"
       ]
      }
     ],
     "prompt_number": 43
    },
    {
     "cell_type": "code",
     "collapsed": false,
     "input": [
      "for v in video:\n",
      "    for x in v:\n",
      "        x.dtype = 'uint8'"
     ],
     "language": "python",
     "metadata": {},
     "outputs": [],
     "prompt_number": 42
    },
    {
     "cell_type": "code",
     "collapsed": false,
     "input": [
      "import numpy as np\n",
      "import cv2\n",
      "\n",
      "cap = cv2.VideoCapture(0)\n",
      "fourcc = cv2.cv.CV_FOURCC(*'XVID')\n",
      "# Define the codec and create VideoWriter object\n",
      "#fourcc = cv2.cv.CV_FOURCC(*'DIVX')\n",
      "#out = cv2.VideoWriter('output.avi',fourcc, 20.0, (640,480))\n",
      "out = cv2.VideoWriter('video.avi', fourcc, 20.0, (640,480))\n",
      "\n",
      "while(cap.isOpened()):\n",
      "    ret, frame = cap.read()\n",
      "    if ret==True:\n",
      "        frame = cv2.flip(frame,0)\n",
      "\n",
      "        # write the flipped frame\n",
      "        out.write(frame)\n",
      "\n",
      "        cv2.imshow('frame',frame)\n",
      "        if cv2.waitKey(1) & 0xFF == ord('q'):\n",
      "            break\n",
      "    else:\n",
      "        break\n",
      "\n",
      "# Release everything if job is finished\n",
      "cap.release()\n",
      "out.release()\n",
      "cv2.destroyAllWindows()"
     ],
     "language": "python",
     "metadata": {},
     "outputs": [
      {
       "ename": "KeyboardInterrupt",
       "evalue": "",
       "output_type": "pyerr",
       "traceback": [
        "\u001b[0;31m---------------------------------------------------------------------------\u001b[0m\n\u001b[0;31mKeyboardInterrupt\u001b[0m                         Traceback (most recent call last)",
        "\u001b[0;32m<ipython-input-1-08afc237d6c3>\u001b[0m in \u001b[0;36m<module>\u001b[0;34m()\u001b[0m\n\u001b[1;32m     15\u001b[0m \u001b[0;34m\u001b[0m\u001b[0m\n\u001b[1;32m     16\u001b[0m         \u001b[0;31m# write the flipped frame\u001b[0m\u001b[0;34m\u001b[0m\u001b[0;34m\u001b[0m\u001b[0m\n\u001b[0;32m---> 17\u001b[0;31m         \u001b[0mout\u001b[0m\u001b[0;34m.\u001b[0m\u001b[0mwrite\u001b[0m\u001b[0;34m(\u001b[0m\u001b[0mframe\u001b[0m\u001b[0;34m)\u001b[0m\u001b[0;34m\u001b[0m\u001b[0m\n\u001b[0m\u001b[1;32m     18\u001b[0m \u001b[0;34m\u001b[0m\u001b[0m\n\u001b[1;32m     19\u001b[0m         \u001b[0mcv2\u001b[0m\u001b[0;34m.\u001b[0m\u001b[0mimshow\u001b[0m\u001b[0;34m(\u001b[0m\u001b[0;34m'frame'\u001b[0m\u001b[0;34m,\u001b[0m\u001b[0mframe\u001b[0m\u001b[0;34m)\u001b[0m\u001b[0;34m\u001b[0m\u001b[0m\n",
        "\u001b[0;31mKeyboardInterrupt\u001b[0m: "
       ]
      }
     ],
     "prompt_number": 1
    },
    {
     "cell_type": "code",
     "collapsed": false,
     "input": [
      "import cv2\n",
      "\n",
      "img1 = cv2.imread('/home/sunyanbo/test/1.jpg')\n",
      "img2 = cv2.imread('/home/sunyanbo/test/2.jpg')\n",
      "img3 = cv2.imread('/home/sunyanbo/test/3.jpg')\n",
      "\n",
      "print img1.shape\n",
      "height, width, layers =  img1.shape\n",
      "\n",
      "vid = cv2.VideoWriter('video.avi',-1,30,(width,height))\n",
      "\n",
      "print vid\n",
      "vid.write(img1)\n",
      "vid.write(img2)\n",
      "vid.write(img3)\n",
      "cv2.imshow('video', img1)\n",
      "cv2.destroyAllWindows()\n",
      "vid.release()"
     ],
     "language": "python",
     "metadata": {},
     "outputs": [
      {
       "output_type": "stream",
       "stream": "stdout",
       "text": [
        "(60, 80, 3)\n",
        "<VideoWriter 0x7f4c400bd4d0>\n"
       ]
      }
     ],
     "prompt_number": 1
    },
    {
     "cell_type": "code",
     "collapsed": false,
     "input": [
      "import cv2\n",
      "fourcc = cv2.VideoWriter_fourcc(*'XVID')\n",
      "out = cv2.VideoWriter('kungfu.avi',fourcc, 20, (48,36))\n",
      "k = 0\n",
      "while k < 83:\n",
      "    frame = cv2.imread('/home/lenovo3/4/%d.jpg'%k)\n",
      "    k += 1\n",
      "    out.write(frame)\n",
      "    #cv2.imshow('frame', frame)\n",
      "    if cv2.waitKey(1) & 0xFF == ord('q'):\n",
      "        break\n",
      "out.release()\n",
      "cv2.destroyAllWindows()"
     ],
     "language": "python",
     "metadata": {},
     "outputs": [],
     "prompt_number": 8
    },
    {
     "cell_type": "code",
     "collapsed": false,
     "input": [
      "\n",
      "#fourcc = cv2.videowriter_fourcc(*'XVID')\n"
     ],
     "language": "python",
     "metadata": {},
     "outputs": [],
     "prompt_number": 12
    },
    {
     "cell_type": "code",
     "collapsed": false,
     "input": [
      "#fourcc = cv2.VideoWriter_fourcc(*'XVID')\n",
      "'/home/sunyanbo/test/%d.jpg'%j\n",
      "out = cv2.VideoWriter('output.avi',cv2.cv.CV_FOURCC('I', 'Y', 'U', 'V'), 30.0, (80,60))"
     ],
     "language": "python",
     "metadata": {},
     "outputs": [],
     "prompt_number": 68
    },
    {
     "cell_type": "code",
     "collapsed": false,
     "input": [
      "while out.isOpened():\n",
      "    for frame in video:\n",
      "        out.write(frame)"
     ],
     "language": "python",
     "metadata": {},
     "outputs": [
      {
       "ename": "error",
       "evalue": "/build/buildd/opencv-2.4.8+dfsg1/modules/highgui/src/cap_ffmpeg.cpp:238: error: (-215) image->depth == 8 in function writeFrame\n",
       "output_type": "pyerr",
       "traceback": [
        "\u001b[0;31m---------------------------------------------------------------------------\u001b[0m\n\u001b[0;31merror\u001b[0m                                     Traceback (most recent call last)",
        "\u001b[0;32m<ipython-input-69-d5aa9cef011c>\u001b[0m in \u001b[0;36m<module>\u001b[0;34m()\u001b[0m\n\u001b[1;32m      1\u001b[0m \u001b[0;32mwhile\u001b[0m \u001b[0mout\u001b[0m\u001b[0;34m.\u001b[0m\u001b[0misOpened\u001b[0m\u001b[0;34m(\u001b[0m\u001b[0;34m)\u001b[0m\u001b[0;34m:\u001b[0m\u001b[0;34m\u001b[0m\u001b[0m\n\u001b[1;32m      2\u001b[0m     \u001b[0;32mfor\u001b[0m \u001b[0mframe\u001b[0m \u001b[0;32min\u001b[0m \u001b[0mvideo\u001b[0m\u001b[0;34m:\u001b[0m\u001b[0;34m\u001b[0m\u001b[0m\n\u001b[0;32m----> 3\u001b[0;31m         \u001b[0mout\u001b[0m\u001b[0;34m.\u001b[0m\u001b[0mwrite\u001b[0m\u001b[0;34m(\u001b[0m\u001b[0mframe\u001b[0m\u001b[0;34m)\u001b[0m\u001b[0;34m\u001b[0m\u001b[0m\n\u001b[0m",
        "\u001b[0;31merror\u001b[0m: /build/buildd/opencv-2.4.8+dfsg1/modules/highgui/src/cap_ffmpeg.cpp:238: error: (-215) image->depth == 8 in function writeFrame\n"
       ]
      }
     ],
     "prompt_number": 69
    },
    {
     "cell_type": "code",
     "collapsed": false,
     "input": [
      "import numpy as np\n",
      "import cv2\n",
      "import csv\n",
      "cap = cv2.VideoCapture('/home/lenovo3/3/butter.avi')\n",
      "\n",
      "# Define the codec and create VideoWriter object\n",
      "#fourcc = cv2.VideoWriter_fourcc(*'XVID')\n",
      "#out = cv2.VideoWriter('output.avi',fourcc, 20.0, (640,480))\n",
      "j = 0\n",
      "with open('/home/lenovo3/butter.txt', 'wb') as files:\n",
      "    while cap.isOpened():\n",
      "        ret, frame = cap.read()\n",
      "        if ret==True:\n",
      "            #gray = cv2.cvtColor(frame, cv2.COLOR_BGR2GRAY)\n",
      "                #cv2.imwrite('/home/sunyanbo/test/%d.jpg'%j, gray)\n",
      "            l = frame.flatten()\n",
      "            #print len(l)\n",
      "            x = [str(m / 255.0) for m in l]\n",
      "            spamwrite = csv.writer(files)\n",
      "            spamwrite.writerow(tuple(x))\n",
      "            j += 1\n",
      "            cv2.imshow('frame',frame)\n",
      "            if cv2.waitKey(1) & 0xFF == ord('q'):\n",
      "                break\n",
      "        else:\n",
      "            break\n",
      "# Release everything if job is finished\n",
      "cap.release()\n",
      "files.close()\n",
      "#out.release()\n",
      "cv2.destroyAllWindows()"
     ],
     "language": "python",
     "metadata": {},
     "outputs": [],
     "prompt_number": 3
    },
    {
     "cell_type": "code",
     "collapsed": false,
     "input": [],
     "language": "python",
     "metadata": {},
     "outputs": []
    }
   ],
   "metadata": {}
  }
 ]
}